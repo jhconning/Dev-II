{
 "cells": [
  {
   "cell_type": "markdown",
   "id": "808f3c80-5e1d-43ba-98d0-aa0fbdc26a05",
   "metadata": {},
   "source": [
    "# Volrath (2009) \"How important are dual economy effects...\""
   ]
  },
  {
   "cell_type": "markdown",
   "id": "de6e8855-0b27-47cc-8c09-ef9ee5120614",
   "metadata": {},
   "source": [
    ">Vollrath, D., 2009. How important are dual economy effects for aggregate productivity? *Journal of Development Economics* 88, 325–334.\n"
   ]
  },
  {
   "cell_type": "markdown",
   "id": "8546057f-855e-4377-a34a-01298d73762d",
   "metadata": {},
   "source": [
    "How can we explain the inverse relationship between the share of labor in the agricultural sector and GDP per capita."
   ]
  },
  {
   "cell_type": "markdown",
   "id": "69d80a7d-c2bb-4833-ba17-1ae403876268",
   "metadata": {},
   "source": [
    "<img src=\"./media/income_ag.png\" alt=\"Vollrath\" class=\"bg-primary\" width=\"500px\">"
   ]
  },
  {
   "cell_type": "markdown",
   "id": "41f1968e-f267-4134-8648-6ad602ef875f",
   "metadata": {},
   "source": [
    "## Efficient allocation explanation\n",
    "\n",
    "### GDP per capita\n",
    "\n",
    "This isn't exactlyt same model (his has mobile capital across sectors), it's a slightly simpler Specific-Factors (or Ricardo Viner) model with specific capital in the manufacturing and agricultural sector (i.e. land) to show very similar diagrams. It helps make the same points.\n",
    "\n",
    "Production in the ag and manufacturing (Volrath calls it 'industrial') sectors respectively are given by:"
   ]
  },
  {
   "cell_type": "markdown",
   "id": "445ec6e4-30ba-4b23-843d-be9cafc97356",
   "metadata": {},
   "source": [
    "$$\n",
    "A_A \\cdot T_a ^\\alpha  L_a^{1-\\alpha}\n",
    "$$\n",
    "\n",
    "$$\n",
    "A_M \\cdot K_m ^\\beta L_m^{1-\\beta}\n",
    "$$"
   ]
  },
  {
   "cell_type": "markdown",
   "id": "945797cd-9a62-47a9-911d-2814c1d1910d",
   "metadata": {},
   "source": [
    "Economywide labor supply must in equilibrium be allocated across the sectors:\n",
    "\n",
    "$$\n",
    "L_a + L_m = \\bar L\n",
    "$$\n",
    "\n",
    "Divide by $\\bar L$ to express in per capita terms:\n",
    "\n",
    "$$\n",
    "l_a + l_m = 1\n",
    "$$"
   ]
  },
  {
   "cell_type": "markdown",
   "id": "9169917d-612b-4bbf-98b3-69f88f1bfb22",
   "metadata": {},
   "source": [
    "Land is specific to the ag sector and in fixed supply so $T_a=\\bar T$, and capital is specific to manufacturing and fixed $K_m = \\bar K$\n",
    "\n",
    "Note that ag output per capita can be written:\n",
    "\n",
    "$$\n",
    "\\frac{A_A \\cdot \\bar T^\\alpha \\cdot L_a^{1-\\alpha}}{\\bar L}  = A_A \\bar t ^\\alpha  \\cdot l_a ^{1-\\alpha}\n",
    "$$\n",
    "\n",
    "where $\\bar t = \\bar T / \\bar L$\n",
    "\n",
    "And a similar expression for manuf output per capita.\n",
    "\n",
    "Let's define $A_a = A_A \\bar t^\\alpha$  so a country with high 'TFP' has either better technology (higher $A_A$) and/or a higher endowment of land per person. \n",
    "\n",
    "Similarly, define $A_m = A_M \\bar k^\\beta$.\n",
    "\n",
    "Then we can express GDP per capita measured in agricultural goods as given by "
   ]
  },
  {
   "cell_type": "markdown",
   "id": "a45afbe9-f402-4fb6-8a95-d4573d85eb8e",
   "metadata": {},
   "source": [
    "$$\n",
    "y(l_a| A_a, A_m, p) = A_a l_a^\\alpha  + p \\cdot A_m (1-l_a)^\\beta\n",
    "$$"
   ]
  },
  {
   "cell_type": "markdown",
   "id": "c7fb9da4-7997-479d-8b0c-4cc7b1db8243",
   "metadata": {},
   "source": [
    "Where $p=\\frac{P_A}{P_M}$ is the relative price of agricultural goods. "
   ]
  },
  {
   "cell_type": "markdown",
   "id": "7ff1eb46-9835-4bf3-827c-8e6a9462ba41",
   "metadata": {},
   "source": [
    "### Rich and Poor Countries\n",
    "\n",
    "Technology (and/or endowments of capital and land per person) are different between **rich** and **poor** countries\n",
    "\n",
    "|      | Agriculture | Industry  |\n",
    "| ---- | :---------: | :-------: |\n",
    "| Rich |  $A_{aR}$  | $A_{mR}$ |\n",
    "| Poor |  $A_{aP}$  | $A_{mP}$ |\n",
    "\n",
    "\n",
    "The Rich country might have absolute productivity advantages but the poor countries have a comparative advantage in agriculture.  We could also allow for different $\\alpha$ and $\\beta$ but we ignore that here."
   ]
  },
  {
   "cell_type": "markdown",
   "id": "db0b372d-414f-40cf-99ef-f617adb2f45f",
   "metadata": {},
   "source": [
    "$$\n",
    "y_R(l_a| A_{aR}, A_{mR}, p) = A_{aR} l_a^\\alpha  + p \\cdot A_{mR} (1-l_a)^\\beta\n",
    "$$\n",
    "\n",
    "$$\n",
    "y_P(l_a| A_{aP}, A_{mP}, p) = A_{aP} l_a^\\alpha  + p \\cdot A_{mP} (1-l_a)^\\beta\n",
    "$$\n"
   ]
  },
  {
   "cell_type": "markdown",
   "id": "b8a2c925-0238-4b5f-b4bb-22b580277175",
   "metadata": {},
   "source": [
    "Perhaps poorer countries just have a comparative advantage at agricultural production.  \n",
    "\n",
    "Let's plot this per capita GDP function and see how its shape changes with the value of the $A$"
   ]
  },
  {
   "cell_type": "code",
   "execution_count": 1,
   "id": "408e11a4-eb4f-4a51-909c-93cb8511dec2",
   "metadata": {
    "tags": [
     "hide-input"
    ]
   },
   "outputs": [],
   "source": [
    "import numpy as np\n",
    "import matplotlib.pyplot as plt\n",
    "from ipywidgets import interact, fixed\n",
    "from scipy.optimize import fsolve, brentq, minimize"
   ]
  },
  {
   "cell_type": "code",
   "execution_count": 7,
   "id": "802bdd12-530d-40a5-890b-cbc00092acd6",
   "metadata": {
    "tags": [
     "hide-input"
    ]
   },
   "outputs": [],
   "source": [
    "def F(la, A, alpha):\n",
    "    return  A * la**alpha\n",
    "\n",
    "def  y(la= 0.5, Aa = 1, Am = 1, alpA = 0.5, alpM = 0.5, p = 1):\n",
    "    '''GDP per capita'''\n",
    "    return  F(la, Aa, alpA) + p * F(1-la, Am, alpM)\n",
    "\n",
    "\n",
    "def optla(Aa = 1, Am = 1, alpA = 0.5, alpM = 0.5, p = 1):   \n",
    "    '''We could solve these FOC analytically for the optimal labor share, \n",
    "       but here we solve for root numerically'''\n",
    "    def foc(la):\n",
    "        return alpA * Aa * la**(alpA-1) - p* alpM * Am * (1-la)**(alpM-1)  \n",
    "    return fsolve(foc, 0.05)[0]\n",
    "\n",
    "def plot_y(Aa = 1, Am = 1, alpA = 0.5, alpM = 0.5, p = 1, ax=None):\n",
    "    if ax is None:\n",
    "        ax = plt.gca()\n",
    "    lla = np.linspace(0,1, 100)\n",
    "    ax.plot(lla, y(lla, Aa, Am, alpA, alpM, p), label =r'$y(l_A | A_A, A_I )$')\n",
    "    lao = optla(Aa, Am, alpA, alpM, p = 1)\n",
    "    ax.scatter(lao, y(lao, Aa, Am, alpA, alpM, p) )\n",
    "    ax.set_xlim(-0.01, 1.01)\n",
    "    ax.set_xlabel(r'$l_a$')\n",
    "    ax.set_ylabel(r'$y$')\n",
    "    ax.legend(loc='upper right', bbox_to_anchor=(1.3, 1))\n",
    "    ax.grid()\n",
    "    print(f'{lao*100:0.0f}% ag employment, y = {y(lao, Aa, Am, alpA, alpM, p):0.0f}')\n",
    "    \n"
   ]
  },
  {
   "cell_type": "markdown",
   "id": "529b7489-1e0e-4eb7-986b-9811ae6e8182",
   "metadata": {},
   "source": [
    "**Rich country**\n",
    "GDP per capita is maximized at a low share of employment in agriculture."
   ]
  },
  {
   "cell_type": "code",
   "execution_count": 3,
   "id": "c2ac27c1-4fb6-4345-888f-362af53037d2",
   "metadata": {},
   "outputs": [
    {
     "name": "stdout",
     "output_type": "stream",
     "text": [
      "8% ag employment, y = 11\n"
     ]
    },
    {
     "data": {
      "image/png": "[encoded data removed]",
      "text/plain": [
       "<Figure size 432x288 with 1 Axes>"
      ]
     },
     "metadata": {
      "needs_background": "light"
     },
     "output_type": "display_data"
    }
   ],
   "source": [
    "plot_y(Aa= 4, Am = 10, alpA = 0.4, alpM = 0.7)"
   ]
  },
  {
   "cell_type": "markdown",
   "id": "e29725c5-62ee-47dd-801e-f190246364a5",
   "metadata": {},
   "source": [
    "**Poor country**\n",
    "\n",
    "GDP per capita is maximized at a high share of employment in agriculture.  Note lower level of GDP per capita than rich."
   ]
  },
  {
   "cell_type": "code",
   "execution_count": 4,
   "id": "daa81f35-f82a-4fa8-b09c-a91fc27ff9df",
   "metadata": {},
   "outputs": [
    {
     "name": "stdout",
     "output_type": "stream",
     "text": [
      "88% ag employment, y = 2\n"
     ]
    },
    {
     "data": {
      "image/png": "[encoded data removed]",
      "text/plain": [
       "<Figure size 432x288 with 1 Axes>"
      ]
     },
     "metadata": {
      "needs_background": "light"
     },
     "output_type": "display_data"
    }
   ],
   "source": [
    "plot_y(Aa=2, Am=1, alpA = 0.7, alpM = 0.4)"
   ]
  },
  {
   "cell_type": "markdown",
   "id": "0cf34831-b026-46c1-9a08-9bc0304b2ba2",
   "metadata": {},
   "source": [
    "**Rich and Poor plotted together**\n",
    "\n",
    "Demonstrating how that the inverse relationship between labor-share in agriculture and GDP per capita might be generated, with efficient allocations.\n",
    "\n",
    "In this example\n",
    "\n",
    "\n",
    "|      | Agriculture | Industry  |\n",
    "| ---- | :---------: | :-------: |\n",
    "| Rich |  $A_{aR}$=4  | $A_{mR}$=10|\n",
    "| Poor |  $A_{aP}$=2  | $A_{mP}$=1 |\n",
    "\n",
    "The rich country has 'TFP' twice as high as the poor country in agriculture.\n",
    "The rich country has 'TFP' ten times higher in agriculture.\n"
   ]
  },
  {
   "cell_type": "code",
   "execution_count": 5,
   "id": "7244f58d-4521-4de0-93fd-1e8caf6cb68a",
   "metadata": {},
   "outputs": [
    {
     "name": "stdout",
     "output_type": "stream",
     "text": [
      "8% ag employment, y = 11\n",
      "88% ag employment, y = 2\n"
     ]
    },
    {
     "data": {
      "image/png": "[encoded data removed]",
      "text/plain": [
       "<Figure size 432x288 with 1 Axes>"
      ]
     },
     "metadata": {
      "needs_background": "light"
     },
     "output_type": "display_data"
    }
   ],
   "source": [
    "fig, ax = plt.subplots()\n",
    "plot_y(Aa=4, Am=10, alpA = 0.4, alpM = 0.7)\n",
    "plot_y(Aa=2, Am=1, alpA = 0.7, alpM = 0.4)\n",
    "ax.grid()"
   ]
  },
  {
   "cell_type": "code",
   "execution_count": 6,
   "id": "f00d2fe4-5c4e-4c94-bbf8-0ebaa3251113",
   "metadata": {},
   "outputs": [
    {
     "data": {
      "text/plain": [
       "<ipywidgets.widgets.interaction._InteractFactory at 0x21381301708>"
      ]
     },
     "execution_count": 6,
     "metadata": {},
     "output_type": "execute_result"
    }
   ],
   "source": [
    "interact(Aa=(1,5,0.1), Am=(1,5,0.1), alpA = (0.2, 0.8, 0.1), alpM = (0.2, 0.8, 0.1))"
   ]
  },
  {
   "cell_type": "code",
   "execution_count": null,
   "id": "20e24ba9-639e-4a74-97df-76e2e87d89ba",
   "metadata": {},
   "outputs": [],
   "source": []
  }
 ],
 "metadata": {
  "kernelspec": {
   "display_name": "Python 3",
   "language": "python",
   "name": "python3"
  },
  "language_info": {
   "codemirror_mode": {
    "name": "ipython",
    "version": 3
   },
   "file_extension": ".py",
   "mimetype": "text/x-python",
   "name": "python",
   "nbconvert_exporter": "python",
   "pygments_lexer": "ipython3",
   "version": "3.7.10"
  },
  "widgets": {
   "application/vnd.jupyter.widget-state+json": {
    "state": {},
    "version_major": 2,
    "version_minor": 0
   }
  }
 },
 "nbformat": 4,
 "nbformat_minor": 5
}
